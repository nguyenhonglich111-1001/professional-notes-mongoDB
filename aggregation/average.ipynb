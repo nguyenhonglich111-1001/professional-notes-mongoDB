{
 "cells": [
  {
   "cell_type": "code",
   "execution_count": 10,
   "metadata": {},
   "outputs": [
    {
     "ename": "TypeError",
     "evalue": "pprint() missing 1 required positional argument: 'object'",
     "output_type": "error",
     "traceback": [
      "\u001b[1;31m---------------------------------------------------------------------------\u001b[0m",
      "\u001b[1;31mTypeError\u001b[0m                                 Traceback (most recent call last)",
      "Cell \u001b[1;32mIn[10], line 3\u001b[0m\n\u001b[0;32m      1\u001b[0m \u001b[39mfrom\u001b[39;00m \u001b[39mmongodb_init\u001b[39;00m \u001b[39mimport\u001b[39;00m crawlDB, codingDB\n\u001b[0;32m      2\u001b[0m \u001b[39mfrom\u001b[39;00m \u001b[39mpprint\u001b[39;00m \u001b[39mimport\u001b[39;00m pprint\n\u001b[1;32m----> 3\u001b[0m pprint \u001b[39m=\u001b[39m pprint(indent\u001b[39m=\u001b[39;49m\u001b[39m4\u001b[39;49m)\n",
      "\u001b[1;31mTypeError\u001b[0m: pprint() missing 1 required positional argument: 'object'"
     ]
    }
   ],
   "source": [
    "from mongodb_init import crawlDB, codingDB\n",
    "from pprint import pprint"
   ]
  },
  {
   "cell_type": "code",
   "execution_count": 3,
   "metadata": {},
   "outputs": [],
   "source": [
    "personal_invsetorDocs = codingDB['investors']"
   ]
  },
  {
   "cell_type": "code",
   "execution_count": 4,
   "metadata": {},
   "outputs": [],
   "source": [
    "pipeline = [{\n",
    "    '$group': {\n",
    "        '_id': '$is_shark',\n",
    "        'count': {'$sum': 1},\n",
    "        'totalAsset': {'$sum': '$snapshot'},\n",
    "        'averageAsset': {'$avg': '$snapshot'}\n",
    "    }\n",
    "}]\n"
   ]
  },
  {
   "cell_type": "code",
   "execution_count": 15,
   "metadata": {},
   "outputs": [
    {
     "name": "stdout",
     "output_type": "stream",
     "text": [
      "{   '_id': True,\n",
      "    'averageAsset': 5420909.390451891,\n",
      "    'count': 688,\n",
      "    'totalAsset': 3729585660.6309013}\n",
      "{   '_id': False,\n",
      "    'averageAsset': 26963.102814713395,\n",
      "    'count': 279,\n",
      "    'totalAsset': 7522705.685305038}\n"
     ]
    }
   ],
   "source": [
    "for result in list(personal_invsetorDocs.aggregate(pipeline)):\n",
    "    pprint(result, indent=4)"
   ]
  }
 ],
 "metadata": {
  "kernelspec": {
   "display_name": "venv",
   "language": "python",
   "name": "python3"
  },
  "language_info": {
   "codemirror_mode": {
    "name": "ipython",
    "version": 3
   },
   "file_extension": ".py",
   "mimetype": "text/x-python",
   "name": "python",
   "nbconvert_exporter": "python",
   "pygments_lexer": "ipython3",
   "version": "3.10.5"
  },
  "orig_nbformat": 4,
  "vscode": {
   "interpreter": {
    "hash": "8677f3bd1f800f83d2ebb1db7752ba92c06106207c53cdba9fd5c39514175e6d"
   }
  }
 },
 "nbformat": 4,
 "nbformat_minor": 2
}
