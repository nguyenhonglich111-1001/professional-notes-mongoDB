{
 "cells": [
  {
   "cell_type": "code",
   "execution_count": 27,
   "metadata": {},
   "outputs": [],
   "source": [
    "from mongodb_init import employeeDocs\n",
    "from pprint import pprint"
   ]
  },
  {
   "cell_type": "code",
   "execution_count": 28,
   "metadata": {},
   "outputs": [
    {
     "name": "stdout",
     "output_type": "stream",
     "text": [
      "{'_id': ObjectId('63a30a5cd3366156ae776cd6'),\n",
      " 'age': 30,\n",
      " 'dept': 'Admin',\n",
      " 'languages': ['german', 'french', 'english', 'hindi'],\n",
      " 'name': 'Adma',\n",
      " 'totalExp': 10}\n"
     ]
    }
   ],
   "source": [
    "for employeeDoc in employeeDocs.find({'name' : 'Adma'}):\n",
    "    pprint(employeeDoc)"
   ]
  },
  {
   "cell_type": "code",
   "execution_count": 33,
   "metadata": {},
   "outputs": [],
   "source": [
    "pipeline = [\n",
    "    {\n",
    "        '$match': {\n",
    "            'name': 'Adma',\n",
    "        }\n",
    "    },\n",
    "    {\n",
    "        '$unwind': '$languages'\n",
    "    },\n",
    "    {\n",
    "        '$project' : {\n",
    "            'name' : 1,\n",
    "            'languages' : 1,\n",
    "            '_id' : 0\n",
    "        }\n",
    "    }\n",
    "]"
   ]
  },
  {
   "attachments": {},
   "cell_type": "markdown",
   "metadata": {},
   "source": [
    "$unwind create multiple in-memory docs for each value in the spec array\n",
    "=> can do further aggregation based on those value"
   ]
  },
  {
   "cell_type": "code",
   "execution_count": 34,
   "metadata": {},
   "outputs": [
    {
     "name": "stdout",
     "output_type": "stream",
     "text": [
      "{'languages': 'german', 'name': 'Adma'}\n",
      "{'languages': 'french', 'name': 'Adma'}\n",
      "{'languages': 'english', 'name': 'Adma'}\n",
      "{'languages': 'hindi', 'name': 'Adma'}\n"
     ]
    }
   ],
   "source": [
    "for employeeDoc in employeeDocs.aggregate(pipeline):\n",
    "    pprint(employeeDoc)"
   ]
  }
 ],
 "metadata": {
  "kernelspec": {
   "display_name": "venv",
   "language": "python",
   "name": "python3"
  },
  "language_info": {
   "codemirror_mode": {
    "name": "ipython",
    "version": 3
   },
   "file_extension": ".py",
   "mimetype": "text/x-python",
   "name": "python",
   "nbconvert_exporter": "python",
   "pygments_lexer": "ipython3",
   "version": "3.10.5"
  },
  "orig_nbformat": 4,
  "vscode": {
   "interpreter": {
    "hash": "8677f3bd1f800f83d2ebb1db7752ba92c06106207c53cdba9fd5c39514175e6d"
   }
  }
 },
 "nbformat": 4,
 "nbformat_minor": 2
}
