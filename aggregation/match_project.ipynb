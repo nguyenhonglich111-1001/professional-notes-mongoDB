{
 "cells": [
  {
   "cell_type": "code",
   "execution_count": 11,
   "metadata": {},
   "outputs": [],
   "source": [
    "from mongodb_init import employeeDocs\n",
    "from pprint import pprint"
   ]
  },
  {
   "cell_type": "code",
   "execution_count": 12,
   "metadata": {},
   "outputs": [
    {
     "name": "stdout",
     "output_type": "stream",
     "text": [
      "{'dept': 'Admin', 'name': 'Adma'}\n",
      "{'dept': 'Admin', 'name': 'Anna'}\n",
      "{'dept': 'Facilities', 'name': 'Bob'}\n",
      "{'dept': 'Facilities', 'name': 'Cathy'}\n",
      "{'dept': 'HR', 'name': 'Mike'}\n",
      "{'dept': 'HR', 'name': 'Jenny'}\n"
     ]
    }
   ],
   "source": [
    "for employeeDoc in employeeDocs.find({},{'name' : 1,'dept' : 1, '_id' : 0}):\n",
    "    pprint(employeeDoc)"
   ]
  },
  {
   "cell_type": "code",
   "execution_count": 17,
   "metadata": {},
   "outputs": [],
   "source": [
    "pipeline = [\n",
    "    {\n",
    "        '$match': {\n",
    "            'dept': 'Admin'\n",
    "        }},\n",
    "    {\n",
    "        '$project': {\n",
    "            'name': 1,\n",
    "            'dept': 1,\n",
    "            '_id': 0\n",
    "        }\n",
    "    }\n",
    "]\n"
   ]
  },
  {
   "cell_type": "code",
   "execution_count": 18,
   "metadata": {},
   "outputs": [
    {
     "name": "stdout",
     "output_type": "stream",
     "text": [
      "{'dept': 'Admin', 'name': 'Adma'}\n",
      "{'dept': 'Admin', 'name': 'Anna'}\n"
     ]
    }
   ],
   "source": [
    "for employeeDoc in list(employeeDocs.aggregate(pipeline)):\n",
    "    pprint(employeeDoc)"
   ]
  }
 ],
 "metadata": {
  "kernelspec": {
   "display_name": "venv",
   "language": "python",
   "name": "python3"
  },
  "language_info": {
   "codemirror_mode": {
    "name": "ipython",
    "version": 3
   },
   "file_extension": ".py",
   "mimetype": "text/x-python",
   "name": "python",
   "nbconvert_exporter": "python",
   "pygments_lexer": "ipython3",
   "version": "3.10.5 (tags/v3.10.5:f377153, Jun  6 2022, 16:14:13) [MSC v.1929 64 bit (AMD64)]"
  },
  "orig_nbformat": 4,
  "vscode": {
   "interpreter": {
    "hash": "8677f3bd1f800f83d2ebb1db7752ba92c06106207c53cdba9fd5c39514175e6d"
   }
  }
 },
 "nbformat": 4,
 "nbformat_minor": 2
}
