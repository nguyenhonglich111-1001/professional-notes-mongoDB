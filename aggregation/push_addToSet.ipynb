{
 "cells": [
  {
   "cell_type": "code",
   "execution_count": 11,
   "metadata": {},
   "outputs": [],
   "source": [
    "from mongodb_init import employeeDocs\n",
    "from pprint import pprint"
   ]
  },
  {
   "cell_type": "code",
   "execution_count": 12,
   "metadata": {},
   "outputs": [
    {
     "name": "stdout",
     "output_type": "stream",
     "text": [
      "{'age': 30}\n",
      "{'age': 35}\n",
      "{'age': 36}\n",
      "{'age': 31}\n",
      "{'age': 26}\n",
      "{'age': 25}\n",
      "{'age': 26}\n"
     ]
    }
   ],
   "source": [
    "for employeeDoc in employeeDocs.find({},{'age' : 1,'_id' : 0}):\n",
    "    pprint(employeeDoc)"
   ]
  },
  {
   "cell_type": "code",
   "execution_count": 13,
   "metadata": {},
   "outputs": [],
   "source": [
    "pipeline = [\n",
    "    {\n",
    "        '$group': {\n",
    "            '_id': 'dept',\n",
    "            'ageList' : {'$push' : '$age'},\n",
    "            'ageSet' : {'$addToSet' : '$age'}\n",
    "        }\n",
    "    }\n",
    "]"
   ]
  },
  {
   "attachments": {},
   "cell_type": "markdown",
   "metadata": {},
   "source": [
    "$push create a List\n",
    "$addToSet create a set"
   ]
  },
  {
   "cell_type": "code",
   "execution_count": 14,
   "metadata": {},
   "outputs": [
    {
     "name": "stdout",
     "output_type": "stream",
     "text": [
      "{'_id': 'dept',\n",
      " 'ageList': [30, 35, 36, 31, 26, 25, 26],\n",
      " 'ageSet': [30, 35, 31, 26, 36, 25]}\n"
     ]
    }
   ],
   "source": [
    "for employeeDoc in list(employeeDocs.aggregate(pipeline)):\n",
    "    pprint(employeeDoc)"
   ]
  }
 ],
 "metadata": {
  "kernelspec": {
   "display_name": "venv",
   "language": "python",
   "name": "python3"
  },
  "language_info": {
   "codemirror_mode": {
    "name": "ipython",
    "version": 3
   },
   "file_extension": ".py",
   "mimetype": "text/x-python",
   "name": "python",
   "nbconvert_exporter": "python",
   "pygments_lexer": "ipython3",
   "version": "3.10.5"
  },
  "orig_nbformat": 4,
  "vscode": {
   "interpreter": {
    "hash": "8677f3bd1f800f83d2ebb1db7752ba92c06106207c53cdba9fd5c39514175e6d"
   }
  }
 },
 "nbformat": 4,
 "nbformat_minor": 2
}
