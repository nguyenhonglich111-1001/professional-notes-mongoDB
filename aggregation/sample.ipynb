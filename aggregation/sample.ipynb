{
 "cells": [
  {
   "cell_type": "code",
   "execution_count": 2,
   "metadata": {},
   "outputs": [],
   "source": [
    "from mongodb_init import employeeDocs\n",
    "from pprint import pprint"
   ]
  },
  {
   "cell_type": "code",
   "execution_count": 5,
   "metadata": {},
   "outputs": [
    {
     "name": "stdout",
     "output_type": "stream",
     "text": [
      "{'_id': ObjectId('63a30aa5d3366156ae776cd8'),\n",
      " 'age': 36,\n",
      " 'dept': 'Facilities',\n",
      " 'languages': ['english', 'hindi'],\n",
      " 'name': 'Bob',\n",
      " 'totalExp': 14}\n",
      "{'_id': ObjectId('63a312f00aa7f907798d9889'),\n",
      " 'age': 26,\n",
      " 'dept': 'Admin',\n",
      " 'languages': ['japan', 'solidity', 'english', 'hindi'],\n",
      " 'name': 'Rived',\n",
      " 'totalExp': 2}\n"
     ]
    }
   ],
   "source": [
    "for sampleDoc in list(employeeDocs.aggregate([{'$sample' : {'size':2}}])):\n",
    "    pprint(sampleDoc)"
   ]
  }
 ],
 "metadata": {
  "kernelspec": {
   "display_name": "venv",
   "language": "python",
   "name": "python3"
  },
  "language_info": {
   "codemirror_mode": {
    "name": "ipython",
    "version": 3
   },
   "file_extension": ".py",
   "mimetype": "text/x-python",
   "name": "python",
   "nbconvert_exporter": "python",
   "pygments_lexer": "ipython3",
   "version": "3.10.5 (tags/v3.10.5:f377153, Jun  6 2022, 16:14:13) [MSC v.1929 64 bit (AMD64)]"
  },
  "orig_nbformat": 4,
  "vscode": {
   "interpreter": {
    "hash": "8677f3bd1f800f83d2ebb1db7752ba92c06106207c53cdba9fd5c39514175e6d"
   }
  }
 },
 "nbformat": 4,
 "nbformat_minor": 2
}
