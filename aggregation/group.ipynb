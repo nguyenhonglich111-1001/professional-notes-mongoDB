{
 "cells": [
  {
   "cell_type": "code",
   "execution_count": 1,
   "metadata": {},
   "outputs": [],
   "source": [
    "from mongodb_init import employeeDocs\n",
    "from pprint import pprint"
   ]
  },
  {
   "cell_type": "code",
   "execution_count": 2,
   "metadata": {},
   "outputs": [
    {
     "name": "stdout",
     "output_type": "stream",
     "text": [
      "{'dept': 'Admin', 'name': 'Adma'}\n",
      "{'dept': 'Admin', 'name': 'Anna'}\n",
      "{'dept': 'Facilities', 'name': 'Bob'}\n",
      "{'dept': 'Facilities', 'name': 'Cathy'}\n",
      "{'dept': 'HR', 'name': 'Mike'}\n",
      "{'dept': 'HR', 'name': 'Jenny'}\n"
     ]
    }
   ],
   "source": [
    "for employeeDoc in employeeDocs.find({},{'name' : 1,'dept' : 1, '_id' : 0}):\n",
    "    pprint(employeeDoc)"
   ]
  },
  {
   "cell_type": "code",
   "execution_count": 3,
   "metadata": {},
   "outputs": [],
   "source": [
    "pipeline = [\n",
    "    {\n",
    "        '$group': {\n",
    "            '_id': '$dept'\n",
    "        }\n",
    "    }\n",
    "]\n"
   ]
  },
  {
   "cell_type": "code",
   "execution_count": 4,
   "metadata": {},
   "outputs": [
    {
     "name": "stdout",
     "output_type": "stream",
     "text": [
      "{'_id': 'Facilities'}\n",
      "{'_id': 'HR'}\n",
      "{'_id': 'Admin'}\n"
     ]
    }
   ],
   "source": [
    "for employeeDoc in list(employeeDocs.aggregate(pipeline)):\n",
    "    pprint(employeeDoc)"
   ]
  },
  {
   "cell_type": "code",
   "execution_count": 7,
   "metadata": {},
   "outputs": [
    {
     "name": "stdout",
     "output_type": "stream",
     "text": [
      "{'age': 30, 'dept': 'Admin'}\n",
      "{'age': 35, 'dept': 'Admin'}\n",
      "{'age': 36, 'dept': 'Facilities'}\n",
      "{'age': 31, 'dept': 'Facilities'}\n",
      "{'age': 26, 'dept': 'HR'}\n",
      "{'age': 25, 'dept': 'HR'}\n"
     ]
    }
   ],
   "source": [
    "for employeeDoc in employeeDocs.find({},{'age' : 1,'dept' : 1, '_id' : 0}):\n",
    "    pprint(employeeDoc)"
   ]
  },
  {
   "cell_type": "code",
   "execution_count": 5,
   "metadata": {},
   "outputs": [],
   "source": [
    "pipeline = [\n",
    "    {\n",
    "        '$group': {\n",
    "            '_id': '$dept',\n",
    "            'totalAge' : {'$sum' : '$age'}\n",
    "        }\n",
    "    }\n",
    "]\n"
   ]
  },
  {
   "cell_type": "code",
   "execution_count": 6,
   "metadata": {},
   "outputs": [
    {
     "name": "stdout",
     "output_type": "stream",
     "text": [
      "{'_id': 'Admin', 'totalAge': 65}\n",
      "{'_id': 'Facilities', 'totalAge': 67}\n",
      "{'_id': 'HR', 'totalAge': 51}\n"
     ]
    }
   ],
   "source": [
    "for employeeDoc in list(employeeDocs.aggregate(pipeline)):\n",
    "    pprint(employeeDoc)"
   ]
  }
 ],
 "metadata": {
  "kernelspec": {
   "display_name": "venv",
   "language": "python",
   "name": "python3"
  },
  "language_info": {
   "codemirror_mode": {
    "name": "ipython",
    "version": 3
   },
   "file_extension": ".py",
   "mimetype": "text/x-python",
   "name": "python",
   "nbconvert_exporter": "python",
   "pygments_lexer": "ipython3",
   "version": "3.10.5"
  },
  "orig_nbformat": 4,
  "vscode": {
   "interpreter": {
    "hash": "8677f3bd1f800f83d2ebb1db7752ba92c06106207c53cdba9fd5c39514175e6d"
   }
  }
 },
 "nbformat": 4,
 "nbformat_minor": 2
}
