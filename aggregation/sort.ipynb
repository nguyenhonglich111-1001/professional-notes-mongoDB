{
 "cells": [
  {
   "cell_type": "code",
   "execution_count": 9,
   "metadata": {},
   "outputs": [],
   "source": [
    "from mongodb_init import employeeDocs\n",
    "from pprint import pprint"
   ]
  },
  {
   "cell_type": "code",
   "execution_count": 10,
   "metadata": {},
   "outputs": [
    {
     "name": "stdout",
     "output_type": "stream",
     "text": [
      "{'name': 'Adma'}\n",
      "{'name': 'Anna'}\n",
      "{'name': 'Bob'}\n",
      "{'name': 'Cathy'}\n",
      "{'name': 'Mike'}\n",
      "{'name': 'Jenny'}\n",
      "{'name': 'Rived'}\n"
     ]
    }
   ],
   "source": [
    "for employeeDoc in employeeDocs.find({},{'name' : 1,'_id' : 0}):\n",
    "    pprint(employeeDoc)"
   ]
  },
  {
   "cell_type": "code",
   "execution_count": 11,
   "metadata": {},
   "outputs": [],
   "source": [
    "pipeline = [\n",
    "    {\n",
    "        '$sort' : {\n",
    "            'name' : 1\n",
    "        }\n",
    "    },\n",
    "    {\n",
    "        '$project': {\n",
    "            'name': 1,\n",
    "            '_id': 0\n",
    "        }\n",
    "    }\n",
    "]"
   ]
  },
  {
   "cell_type": "code",
   "execution_count": 12,
   "metadata": {},
   "outputs": [
    {
     "name": "stdout",
     "output_type": "stream",
     "text": [
      "{'name': 'Adma'}\n",
      "{'name': 'Anna'}\n",
      "{'name': 'Bob'}\n",
      "{'name': 'Cathy'}\n",
      "{'name': 'Jenny'}\n",
      "{'name': 'Mike'}\n",
      "{'name': 'Rived'}\n"
     ]
    }
   ],
   "source": [
    "for employeeDoc in list(employeeDocs.aggregate(pipeline)):\n",
    "    pprint(employeeDoc)"
   ]
  },
  {
   "cell_type": "code",
   "execution_count": 15,
   "metadata": {},
   "outputs": [],
   "source": [
    "pipeline = [\n",
    "    {\n",
    "        '$sort' : {\n",
    "            'name' : -1\n",
    "        }\n",
    "    },\n",
    "    {\n",
    "        '$project': {\n",
    "            'name': 1,\n",
    "            '_id': 0\n",
    "        }\n",
    "    }\n",
    "]"
   ]
  },
  {
   "cell_type": "code",
   "execution_count": 16,
   "metadata": {},
   "outputs": [
    {
     "name": "stdout",
     "output_type": "stream",
     "text": [
      "{'name': 'Rived'}\n",
      "{'name': 'Mike'}\n",
      "{'name': 'Jenny'}\n",
      "{'name': 'Cathy'}\n",
      "{'name': 'Bob'}\n",
      "{'name': 'Anna'}\n",
      "{'name': 'Adma'}\n"
     ]
    }
   ],
   "source": [
    "for employeeDoc in list(employeeDocs.aggregate(pipeline)):\n",
    "    pprint(employeeDoc)"
   ]
  }
 ],
 "metadata": {
  "kernelspec": {
   "display_name": "venv",
   "language": "python",
   "name": "python3"
  },
  "language_info": {
   "codemirror_mode": {
    "name": "ipython",
    "version": 3
   },
   "file_extension": ".py",
   "mimetype": "text/x-python",
   "name": "python",
   "nbconvert_exporter": "python",
   "pygments_lexer": "ipython3",
   "version": "3.10.5 (tags/v3.10.5:f377153, Jun  6 2022, 16:14:13) [MSC v.1929 64 bit (AMD64)]"
  },
  "orig_nbformat": 4,
  "vscode": {
   "interpreter": {
    "hash": "8677f3bd1f800f83d2ebb1db7752ba92c06106207c53cdba9fd5c39514175e6d"
   }
  }
 },
 "nbformat": 4,
 "nbformat_minor": 2
}
